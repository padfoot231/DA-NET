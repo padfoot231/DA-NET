{
 "cells": [
  {
   "cell_type": "code",
   "execution_count": 18,
   "id": "5e330601",
   "metadata": {},
   "outputs": [],
   "source": [
    "from utils import get_sample_params_from_subdiv, get_sample_locations\n",
    "import numpy as np\n",
    "import torch "
   ]
  },
  {
   "cell_type": "code",
   "execution_count": 19,
   "id": "eaec615d",
   "metadata": {},
   "outputs": [],
   "source": [
    "radius_subdiv = 16\n",
    "azimuth_subdiv = 64\n",
    "subdiv = (radius_subdiv, azimuth_subdiv)\n",
    "# subdiv = 3\n",
    "n_radius = 20\n",
    "n_azimuth = 20\n",
    "img_size = (64,64)\n",
    "radius_buffer, azimuth_buffer = 0, 0"
   ]
  },
  {
   "cell_type": "code",
   "execution_count": 20,
   "id": "718ad808",
   "metadata": {},
   "outputs": [],
   "source": [
    "params = get_sample_params_from_subdiv(\n",
    "        subdiv=subdiv,\n",
    "        img_size=img_size,\n",
    "        D = [0.5, 0.5, 0.5, 0.5], \n",
    "        n_radius=n_radius,\n",
    "        n_azimuth=n_azimuth,\n",
    "        radius_buffer=radius_buffer,\n",
    "        azimuth_buffer=azimuth_buffer\n",
    "    )"
   ]
  },
  {
   "cell_type": "code",
   "execution_count": 21,
   "id": "7a8efa2e",
   "metadata": {},
   "outputs": [],
   "source": [
    "sample_locations = get_sample_locations(**params)"
   ]
  },
  {
   "cell_type": "code",
   "execution_count": 23,
   "id": "ea099f9b",
   "metadata": {},
   "outputs": [
    {
     "data": {
      "image/png": "[encoded data removed]",
      "text/plain": [
       "<Figure size 576x576 with 1 Axes>"
      ]
     },
     "metadata": {
      "needs_background": "light"
     },
     "output_type": "display_data"
    }
   ],
   "source": [
    "import matplotlib.pyplot as plt\n",
    "_, ax = plt.subplots(figsize=(8, 8))\n",
    "ax.set_title(\"Sampling locations\")\n",
    "colors = ['#e41a1c', '#377eb8', '#4daf4a', '#984ea3', '#ff7f00', '#ffff33', '#a65628']\n"
   ]
  },
  {
   "cell_type": "code",
   "execution_count": 32,
   "id": "e0a7b2c5",
   "metadata": {},
   "outputs": [],
   "source": [
    "for i in range(sample_locations[0].shape[0]):\n",
    "    sample = (sample_locations[0][i] + 32, sample_locations[1][i] + 32)\n",
    "    ax.scatter(*sample, color=colors[i%len(colors)], s=6)\n",
    "plt.show()"
   ]
  },
  {
   "cell_type": "code",
   "execution_count": null,
   "id": "8f5b8ea5",
   "metadata": {},
   "outputs": [],
   "source": [
    "out = []\n",
    "out = torch.empty(len(params),1,n_radius*n_azimuth,2)\n",
    "import pdb;pdb.set_trace()\n",
    "for i in range(len(params)):\n",
    "    sample_locations = get_sample_locations(**params[i])\n",
    "    # cProfile.run(get_sample_locations())\n",
    "#     x_ = torch.tensor(sample_locations[0]).reshape(1, 1, n_radius*n_azimuth).float()\n",
    "#     x_ = x_/ 32\n",
    "#     x_.long()\n",
    "#     y_ = torch.tensor(sample_locations[1]).reshape(1, 1, n_radius*n_azimuth).float()\n",
    "#     y_ = y_/32\n",
    "#     y_.long()\n",
    "#     t = torch.cat((x_, -(y_)))\n",
    "# #     import pdb;pdb.set_trace()\n",
    "#     out[i] = t.transpose(0,1).transpose(1,2)\n",
    "    out.append(sample_locations)"
   ]
  },
  {
   "cell_type": "code",
   "execution_count": null,
   "id": "3c3ba07a",
   "metadata": {},
   "outputs": [],
   "source": [
    "sample_locations[1][2]"
   ]
  },
  {
   "cell_type": "code",
   "execution_count": null,
   "id": "8d55623b",
   "metadata": {},
   "outputs": [],
   "source": [
    "out"
   ]
  },
  {
   "cell_type": "code",
   "execution_count": null,
   "id": "9fe88ef2",
   "metadata": {},
   "outputs": [],
   "source": []
  },
  {
   "cell_type": "code",
   "execution_count": null,
   "id": "75be32a1",
   "metadata": {},
   "outputs": [],
   "source": [
    " D_min = []\n",
    "\n",
    "D_s = []\n",
    "for i in params:\n",
    "    D_min.append(i['dmin'])"
   ]
  },
  {
   "cell_type": "code",
   "execution_count": null,
   "id": "9178f61e",
   "metadata": {},
   "outputs": [],
   "source": [
    "for i in params:\n",
    "    ...:     D_s.append(i['ds'])"
   ]
  },
  {
   "cell_type": "code",
   "execution_count": null,
   "id": "c3dd8ad3",
   "metadata": {},
   "outputs": [],
   "source": [
    "D_min"
   ]
  },
  {
   "cell_type": "code",
   "execution_count": null,
   "id": "39c0a7f9",
   "metadata": {},
   "outputs": [],
   "source": [
    "dmimn = np.array([ 0.        ,  6.27356265, 11.8556185 , 16.33477941, 19.70256506,\n",
    "       22.21763762, 24.1367413 , 25.64966975, 26.89142218, 27.93158828,\n",
    "       28.82656034, 29.60348559, 30.2946761 , 30.91569069, 31.48018589,\n",
    "       32.        ])"
   ]
  },
  {
   "cell_type": "code",
   "execution_count": null,
   "id": "fdc2bbc9",
   "metadata": {},
   "outputs": [],
   "source": [
    "a = dmimn[:-1].reshape(1, 15).repeat(8, 0).reshape(1, 8*15)"
   ]
  },
  {
   "cell_type": "code",
   "execution_count": null,
   "id": "f8a7a492",
   "metadata": {},
   "outputs": [],
   "source": [
    "a"
   ]
  },
  {
   "cell_type": "code",
   "execution_count": null,
   "id": "24adebc1",
   "metadata": {},
   "outputs": [],
   "source": [
    "\n",
    "phi_start = 0\n",
    "phi_end = 2*np.pi\n",
    "phi_step = alpha\n",
    "phi_list = np.arange(phi_start, phi_end, phi_step)"
   ]
  },
  {
   "cell_type": "code",
   "execution_count": null,
   "id": "182631fe",
   "metadata": {},
   "outputs": [],
   "source": [
    "phi_list"
   ]
  },
  {
   "cell_type": "code",
   "execution_count": null,
   "id": "2a13229c",
   "metadata": {},
   "outputs": [],
   "source": [
    "p = phi_list.reshape(1, 4).repeat(2, 0)"
   ]
  },
  {
   "cell_type": "code",
   "execution_count": null,
   "id": "ad8ca1c5",
   "metadata": {},
   "outputs": [],
   "source": [
    "phi = p.transpose(1,0).flatten()"
   ]
  },
  {
   "cell_type": "code",
   "execution_count": null,
   "id": "0929897c",
   "metadata": {},
   "outputs": [],
   "source": [
    "phi"
   ]
  },
  {
   "cell_type": "code",
   "execution_count": null,
   "id": "a2ea5ee9",
   "metadata": {},
   "outputs": [],
   "source": [
    "alpha = np.array(1.57079633).repeat(8)"
   ]
  },
  {
   "cell_type": "code",
   "execution_count": null,
   "id": "a4a27f38",
   "metadata": {},
   "outputs": [],
   "source": [
    "alpha, phi"
   ]
  },
  {
   "cell_type": "code",
   "execution_count": null,
   "id": "4a1771f0",
   "metadata": {},
   "outputs": [],
   "source": [
    "9.18691667, 7.14786274, 4.71206872, 3.08989318, 2.16201313,\n",
    "       1.63283384, 1.29558844, 1.06749939, 0.91096282, 0.79436107"
   ]
  },
  {
   "cell_type": "code",
   "execution_count": null,
   "id": "acd40ff9",
   "metadata": {},
   "outputs": [],
   "source": [
    "r_start = np.array(D_min) + np.array(D_s)\n",
    "r_end = np.array(D_min)"
   ]
  },
  {
   "cell_type": "code",
   "execution_count": null,
   "id": "645e1b50",
   "metadata": {},
   "outputs": [],
   "source": [
    "alpha_start = phi \n",
    "alpha_end = alpha + phi - azimuth_buffer"
   ]
  },
  {
   "cell_type": "code",
   "execution_count": null,
   "id": "74ad6b22",
   "metadata": {},
   "outputs": [],
   "source": [
    "alpha_start, alpha_end"
   ]
  },
  {
   "cell_type": "code",
   "execution_count": null,
   "id": "e1e49870",
   "metadata": {},
   "outputs": [],
   "source": [
    "radius = np.linspace(r_start, r_end, n_radius)\n",
    "azimuth = np.linspace(alpha_start, alpha_end, n_azimuth)"
   ]
  },
  {
   "cell_type": "code",
   "execution_count": null,
   "id": "5b2221f6",
   "metadata": {},
   "outputs": [],
   "source": [
    "radius.shape, azimuth.shape"
   ]
  },
  {
   "cell_type": "code",
   "execution_count": null,
   "id": "3ea2c1c4",
   "metadata": {},
   "outputs": [],
   "source": [
    "# radius = np.linspace(0, 2, n_radius)\n",
    "radius = np.transpose(radius, (1,0))\n",
    "radius = radius.flatten()"
   ]
  },
  {
   "cell_type": "code",
   "execution_count": null,
   "id": "069e228f",
   "metadata": {},
   "outputs": [],
   "source": [
    "# radius = np.linspace(0, 2, n_radius)\n",
    "azimuth = np.transpose(azimuth, (1,0))\n",
    "azimuth = azimuth.flatten()"
   ]
  },
  {
   "cell_type": "code",
   "execution_count": null,
   "id": "913cb8d5",
   "metadata": {},
   "outputs": [],
   "source": [
    "radius, azimuth"
   ]
  },
  {
   "cell_type": "code",
   "execution_count": null,
   "id": "6dadc6c6",
   "metadata": {},
   "outputs": [],
   "source": [
    "azimuth_mesh_, radius_mesh_ = np.meshgrid(azimuth[0:4], radius[0:4])"
   ]
  },
  {
   "cell_type": "code",
   "execution_count": null,
   "id": "c81e5dbc",
   "metadata": {},
   "outputs": [],
   "source": [
    "radius_mesh_"
   ]
  },
  {
   "cell_type": "code",
   "execution_count": null,
   "id": "af3737d3",
   "metadata": {},
   "outputs": [],
   "source": [
    "azimuth_mesh, radius_mesh = np.meshgrid(azimuth, radius)"
   ]
  },
  {
   "cell_type": "code",
   "execution_count": null,
   "id": "d902c234",
   "metadata": {},
   "outputs": [],
   "source": [
    "azimuth_mesh[0]"
   ]
  },
  {
   "cell_type": "code",
   "execution_count": null,
   "id": "82025d5b",
   "metadata": {},
   "outputs": [],
   "source": [
    "radius_mesh_r = radius_mesh[:, :4].reshape(8, 4, 4)"
   ]
  },
  {
   "cell_type": "code",
   "execution_count": null,
   "id": "889d3921",
   "metadata": {},
   "outputs": [],
   "source": [
    "radius_mesh_r = radius_mesh[:, :4].reshape(8, 4, 4)\n",
    "azimuth_mesh_a = azimuth_mesh[:4, :].reshape(4, 8, 4).transpose(1,0,2)"
   ]
  },
  {
   "cell_type": "code",
   "execution_count": null,
   "id": "0d87dbdd",
   "metadata": {},
   "outputs": [],
   "source": [
    "azimuth_mesh_a = azimuth_mesh_a"
   ]
  },
  {
   "cell_type": "code",
   "execution_count": null,
   "id": "e6896ffe",
   "metadata": {},
   "outputs": [],
   "source": [
    "azimuth_mesh_a[2], radius_mesh_r[2]"
   ]
  },
  {
   "cell_type": "code",
   "execution_count": null,
   "id": "2c69245f",
   "metadata": {},
   "outputs": [],
   "source": [
    "x = radius_mesh_ * np.cos(azimuth_mesh_) "
   ]
  },
  {
   "cell_type": "code",
   "execution_count": null,
   "id": "9a485468",
   "metadata": {},
   "outputs": [],
   "source": [
    "x = x.reshape(-1)"
   ]
  },
  {
   "cell_type": "code",
   "execution_count": null,
   "id": "88c62233",
   "metadata": {},
   "outputs": [],
   "source": [
    "x_ = radius_mesh_r * np.cos(azimuth_mesh_a) "
   ]
  },
  {
   "cell_type": "code",
   "execution_count": null,
   "id": "b2ba6418",
   "metadata": {},
   "outputs": [],
   "source": [
    "x_ = x_.reshape(8, 16)"
   ]
  },
  {
   "cell_type": "code",
   "execution_count": null,
   "id": "79c27e23",
   "metadata": {},
   "outputs": [],
   "source": [
    "x"
   ]
  },
  {
   "cell_type": "code",
   "execution_count": null,
   "id": "71f9077e",
   "metadata": {},
   "outputs": [],
   "source": [
    "x_"
   ]
  },
  {
   "cell_type": "code",
   "execution_count": null,
   "id": "c68a791d",
   "metadata": {},
   "outputs": [],
   "source": []
  }
 ],
 "metadata": {
  "kernelspec": {
   "display_name": "swin",
   "language": "python",
   "name": "swin"
  },
  "language_info": {
   "codemirror_mode": {
    "name": "ipython",
    "version": 3
   },
   "file_extension": ".py",
   "mimetype": "text/x-python",
   "name": "python",
   "nbconvert_exporter": "python",
   "pygments_lexer": "ipython3",
   "version": "3.7.13"
  }
 },
 "nbformat": 4,
 "nbformat_minor": 5
}
