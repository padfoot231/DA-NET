{
 "cells": [
  {
   "cell_type": "code",
   "execution_count": null,
   "id": "e1632845",
   "metadata": {},
   "outputs": [],
   "source": [
    "import torch\n",
    "from torchvision.utils import save_image\n",
    "from PIL import Image, ImageOps\n",
    "import numpy as np \n",
    "from torchvision import transforms\n",
    "import wandb\n",
    "wandb.init(project='images')\n",
    "\n",
    "im = Image.open('/gel/usr/akath/tiny-imagenet-200/train/n02837789/images/n02837789_110.JPEG')\n",
    "# im = ImageOps.grayscale(im)\n",
    "trans = transforms.ToTensor()\n",
    "transform = transforms.ToPILImage()\n",
    "\n",
    "im_ = trans(im)\n",
    "\n",
    "# im = np.array(im)\n",
    "res=1024\n",
    "\n",
    "cartesian = torch.cartesian_prod(\n",
    "    torch.linspace(-1, 1, res),\n",
    "    torch.linspace(1, -1, res)\n",
    ").reshape(res, res, 2).transpose(2, 1).transpose(1, 0).transpose(1, 2)\n",
    "radius = cartesian.norm(dim=0)\n",
    "y = cartesian[1]\n",
    "x = cartesian[0]\n",
    "theta = torch.atan2(cartesian[1], cartesian[0])\n",
    "image = torch.randn(res, res, 3)\n",
    "mask = (radius > 0.4) & (radius < 0.8) \n",
    "\n",
    "mask1 = mask & (theta >0) & (theta<3.14/2)\n",
    "\n",
    "lst = [mask1, mask2, mask3, mask4]\n",
    "img = []\n",
    "for i in range(4):\n",
    "    lst[i] = torch.nn.functional.interpolate(lst[i].unsqueeze(0).unsqueeze(0) * 1.0, (64), mode=\"area\")\n",
    "    flag = lst[i]*im_\n",
    "    # import pdb;pdb.set_trace()\n",
    "    image = transform(flag[0])\n",
    "    img.append(image)\n",
    "    lst[i] = transform(lst[i][0])\n",
    "\n",
    "# wandb.log({\"masks\" : [wandb.Image(image) for image in lst]})\n",
    "\n",
    "# wandb.log({\"segments\" : [wandb.Image(image) for image in img]})\n",
    "# wandb.log({\"original image\" : wandb.Image(im)})\n"
   ]
  }
 ],
 "metadata": {
  "kernelspec": {
   "display_name": "swin",
   "language": "python",
   "name": "swin"
  },
  "language_info": {
   "codemirror_mode": {
    "name": "ipython",
    "version": 3
   },
   "file_extension": ".py",
   "mimetype": "text/x-python",
   "name": "python",
   "nbconvert_exporter": "python",
   "pygments_lexer": "ipython3",
   "version": "3.7.13"
  }
 },
 "nbformat": 4,
 "nbformat_minor": 5
}
