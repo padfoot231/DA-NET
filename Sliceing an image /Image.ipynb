{
 "cells": [
  {
   "cell_type": "code",
   "execution_count": 272,
   "id": "9edd016a",
   "metadata": {},
   "outputs": [],
   "source": [
    "import torch\n",
    "from torchvision.utils import save_image\n",
    "from PIL import Image, ImageOps\n",
    "import numpy as np \n",
    "from torchvision import transforms\n",
    "import wandb\n",
    "img = torch.arange(10*10).reshape(10,10)\n",
    "result = np.zeros((21,21))"
   ]
  },
  {
   "cell_type": "code",
   "execution_count": 324,
   "id": "e1632845",
   "metadata": {},
   "outputs": [],
   "source": [
    "import torch\n",
    "from torchvision.utils import save_image\n",
    "from PIL import Image, ImageOps\n",
    "import numpy as np \n",
    "from torchvision import transforms\n",
    "import wandb\n",
    "\n",
    "t = transforms.ToPILImage()\n",
    "res=1024\n",
    "\n",
    "cartesian = torch.cartesian_prod(\n",
    "    torch.linspace(-1.414, 1.414, res),\n",
    "    torch.linspace(1.414, -1.414, res)\n",
    ").reshape(res, res, 2).transpose(2, 1).transpose(1, 0).transpose(1, 2)\n",
    "radius = cartesian.norm(dim=0)\n",
    "y = cartesian[1]\n",
    "x = cartesian[0]\n",
    "theta = torch.atan2(cartesian[1], cartesian[0])\n",
    "image = torch.randn(res, res, 3)\n",
    "mask = (radius >0.75) & (radius < 1)\n",
    "mask1= (radius >0.5) & (radius < 0.75)\n",
    "mask2= (radius >0.25) & (radius < 5)\n",
    "mask3= (radius >0.0) & (radius < 0.25)\n",
    "mask = torch.nn.functional.interpolate(mask.unsqueeze(0).unsqueeze(0) * 1.0, (10), mode=\"area\")\n",
    "mask1 = torch.nn.functional.interpolate(mask1.unsqueeze(0).unsqueeze(0) * 1.0, (10), mode=\"area\")\n",
    "mask2 = torch.nn.functional.interpolate(mask2.unsqueeze(0).unsqueeze(0) * 1.0, (10), mode=\"area\")\n",
    "mask3 = torch.nn.functional.interpolate(mask3.unsqueeze(0).unsqueeze(0) * 1.0, (10), mode=\"area\")\n",
    "\n",
    "im = img*mask\n",
    "im1 = img*mask1\n",
    "im2 = img*mask2\n",
    "im3 = img*mask3\n",
    "\n",
    "# wandb.log({\"masks\" : [wandb.Image(image) for image in lst]})\n",
    "\n",
    "# wandb.log({\"segments\" : [wandb.Image(image) for image in img]})\n",
    "# wandb.log({\"original image\" : wandb.Image(im)})\n"
   ]
  },
  {
   "cell_type": "code",
   "execution_count": 210,
   "id": "677640f4",
   "metadata": {},
   "outputs": [],
   "source": [
    "radius = [1, 2, 3,4]\n",
    "theta= [] \n",
    "for i in range(16):\n",
    "    t = 0 + np.pi/8*i\n",
    "    theta.append(t)"
   ]
  },
  {
   "cell_type": "code",
   "execution_count": 245,
   "id": "02f6e3b4",
   "metadata": {},
   "outputs": [
    {
     "data": {
      "text/plain": [
       "(8, 8)"
      ]
     },
     "execution_count": 245,
     "metadata": {},
     "output_type": "execute_result"
    }
   ],
   "source": [
    "img.shape"
   ]
  },
  {
   "cell_type": "code",
   "execution_count": 257,
   "id": "a53910e4",
   "metadata": {},
   "outputs": [],
   "source": [
    "i = 0\n",
    "j = 0\n",
    "for r in radius:\n",
    "    for th in theta:\n",
    "        x = r*np.cos(th)\n",
    "        y = r*np.sin(th)\n",
    "        if x>0 and x <1e-3:\n",
    "            x = 0\n",
    "        elif y>0 and y <1e-3:\n",
    "            y = 0\n",
    "        if x<0 and x > -1e-3:\n",
    "            x = 0\n",
    "        elif y<0 and y > -1e-3:\n",
    "            y = 0\n",
    "        x = int(x*5)\n",
    "        y = int(y*5)\n",
    "        result[x][y] = img[j]\n",
    "        j = j +1\n"
   ]
  },
  {
   "cell_type": "code",
   "execution_count": 260,
   "id": "f8acd367",
   "metadata": {},
   "outputs": [
    {
     "data": {
      "text/plain": [
       "array([[ 0., 60.,  0.,  0.,  0.,  4., 44.,  0.,  0.,  0., 20., 28.,  0.,\n",
       "         0.,  0., 36., 12.,  0.,  0.,  0., 52.],\n",
       "       [56.,  0.,  0.,  0.,  3.,  0.,  0.,  0.,  0.,  0.,  0.,  0.,  0.,\n",
       "         0.,  0.,  0.,  0., 13.,  0.,  0.,  0.],\n",
       "       [ 0.,  0.,  0.,  0.,  0.,  0.,  0.,  0.,  0.,  0.,  0.,  0.,  0.,\n",
       "         0.,  0.,  0.,  0.,  0.,  0.,  0.,  0.],\n",
       "       [ 0.,  0.,  0.,  2.,  0.,  0.,  0., 55.,  0., 19.,  0.,  0., 29.,\n",
       "         0., 57.,  0.,  0.,  0., 14.,  0.,  0.],\n",
       "       [ 0.,  1.,  0.,  0.,  0.,  0.,  0.,  0.,  0.,  0.,  0.,  0.,  0.,\n",
       "         0.,  0.,  0.,  0.,  0.,  0.,  0., 15.],\n",
       "       [ 0.,  0.,  0.,  0.,  0.,  0.,  0.,  0., 45.,  0.,  0.,  0.,  0.,\n",
       "        35.,  0.,  0.,  0.,  0.,  0.,  0.,  0.],\n",
       "       [40.,  0.,  0.,  0.,  0.,  0.,  0.,  0.,  0.,  0.,  0.,  0.,  0.,\n",
       "         0.,  0.,  0.,  0.,  0.,  0.,  0.,  0.],\n",
       "       [ 0.,  0.,  0., 61.,  0.,  0.,  0., 58.,  0.,  0.,  0.,  0.,  0.,\n",
       "         0., 54.,  0.,  0.,  0., 51.,  0.,  0.],\n",
       "       [ 0.,  0.,  0.,  0.,  0., 39.,  0.,  0.,  0.,  0.,  0.,  0.,  0.,\n",
       "         0.,  0.,  0., 41.,  0.,  0.,  0.,  0.],\n",
       "       [ 0.,  0.,  0., 17.,  0.,  0.,  0.,  0.,  0.,  0.,  0.,  0.,  0.,\n",
       "         0.,  0.,  0.,  0.,  0., 31.,  0.,  0.],\n",
       "       [16.,  0.,  0.,  0.,  0.,  0.,  0.,  0.,  0.,  0., 34., 46.,  0.,\n",
       "         0.,  0.,  0.,  0.,  0.,  0.,  0.,  0.],\n",
       "       [24.,  0.,  0.,  0.,  0.,  0.,  0.,  0.,  0.,  0., 38., 42.,  0.,\n",
       "         0.,  0.,  0.,  0.,  0.,  0.,  0.,  0.],\n",
       "       [ 0.,  0.,  0., 23.,  0.,  0.,  0.,  0.,  0.,  0.,  0.,  0.,  0.,\n",
       "         0.,  0.,  0.,  0.,  0., 25.,  0.,  0.],\n",
       "       [ 0.,  0.,  0.,  0.,  0., 33.,  0.,  0.,  0.,  0.,  0.,  0.,  0.,\n",
       "         0.,  0.,  0., 47.,  0.,  0.,  0.,  0.],\n",
       "       [ 0.,  0.,  0., 59.,  0.,  0.,  0., 62.,  0.,  0.,  0.,  0.,  0.,\n",
       "         0., 50.,  0.,  0.,  0., 53.,  0.,  0.],\n",
       "       [32.,  0.,  0.,  0.,  0.,  0.,  0.,  0.,  0.,  0.,  0.,  0.,  0.,\n",
       "         0.,  0.,  0.,  0.,  0.,  0.,  0.,  0.],\n",
       "       [ 8.,  0.,  0.,  0.,  0.,  0.,  0.,  0., 43.,  0.,  0.,  0.,  0.,\n",
       "        37.,  0.,  0.,  0.,  0.,  0.,  0.,  0.],\n",
       "       [ 0.,  7.,  0.,  0.,  0.,  0.,  0.,  0.,  0.,  0.,  0.,  0.,  0.,\n",
       "         0.,  0.,  0.,  0.,  0.,  0.,  0.,  9.],\n",
       "       [ 0.,  0.,  0.,  6.,  0.,  0.,  0., 49.,  0., 21.,  0.,  0., 27.,\n",
       "         0., 63.,  0.,  0.,  0., 10.,  0.,  0.],\n",
       "       [ 0.,  0.,  0.,  0.,  0.,  0.,  0.,  0.,  0.,  0.,  0.,  0.,  0.,\n",
       "         0.,  0.,  0.,  0.,  0.,  0.,  0.,  0.],\n",
       "       [48.,  0.,  0.,  0.,  5.,  0.,  0.,  0.,  0.,  0.,  0.,  0.,  0.,\n",
       "         0.,  0.,  0.,  0., 11.,  0.,  0.,  0.]])"
      ]
     },
     "execution_count": 260,
     "metadata": {},
     "output_type": "execute_result"
    }
   ],
   "source": [
    "result"
   ]
  },
  {
   "cell_type": "code",
   "execution_count": 326,
   "id": "0fccab2a",
   "metadata": {},
   "outputs": [
    {
     "name": "stdout",
     "output_type": "stream",
     "text": [
      "0.0\n",
      "0.0\n",
      "0.0\n",
      "0.0\n",
      "0.0\n",
      "0.0\n",
      "0.0\n",
      "0.0\n",
      "0.0\n",
      "0.0\n",
      "0.0\n",
      "0.0\n",
      "0.0\n",
      "0.0\n",
      "0.0\n",
      "0.0\n",
      "0.0\n",
      "0.0\n",
      "0.0\n",
      "0.0\n",
      "0.0\n",
      "0.0\n",
      "0.0\n",
      "0.0\n",
      "0.0\n",
      "0.0\n",
      "0.0\n",
      "0.0\n",
      "0.0\n",
      "0.0\n",
      "0.0\n",
      "0.0\n",
      "0.0\n",
      "0.0\n",
      "0.0\n",
      "0.0\n",
      "0.0\n",
      "0.0\n",
      "0.0\n",
      "0.0\n",
      "0.0\n",
      "0.0\n",
      "0.0\n",
      "0.0\n",
      "0.0\n",
      "0.0\n",
      "0.0\n",
      "0.0\n",
      "0.0\n",
      "0.0\n",
      "0.0\n",
      "0.0\n",
      "0.0\n",
      "0.0\n",
      "0.0\n",
      "0.0\n",
      "0.0\n",
      "0.0\n",
      "0.0\n",
      "0.0\n",
      "0.0\n",
      "0.0\n",
      "0.0\n",
      "0.0\n",
      "0.0\n",
      "0.0\n",
      "0.0\n",
      "0.0\n",
      "0.0\n",
      "0.0\n",
      "0.0\n",
      "0.0\n",
      "0.0\n",
      "0.0\n",
      "0.0\n",
      "0.0\n",
      "0.0\n",
      "0.0\n",
      "0.0\n",
      "0.0\n",
      "0.0\n",
      "0.0\n",
      "0.0\n",
      "0.0\n",
      "0.0\n",
      "0.0\n",
      "0.0\n",
      "0.0\n",
      "0.0\n",
      "0.0\n",
      "0.0\n",
      "0.0\n",
      "0.0\n",
      "0.0\n",
      "0.0\n",
      "0.0\n",
      "0.0\n",
      "0.0\n",
      "0.0\n",
      "0.0\n"
     ]
    }
   ],
   "source": [
    "A = np.array(im[0, 0])\n",
    "for i in range(A.shape[0]):\n",
    "    for j in range(A.shape[1]):\n",
    "#         import pdb;pdb.set_trace()\n",
    "        print(float(\"{0:.1f}\".format(A[i][j])))\n",
    "        A[i][j] = float(\"{0:.1f}\".format(A[i][j]))"
   ]
  },
  {
   "cell_type": "code",
   "execution_count": 323,
   "id": "075ab160",
   "metadata": {},
   "outputs": [
    {
     "data": {
      "text/plain": [
       "torch.Size([1, 1, 10, 10])"
      ]
     },
     "execution_count": 323,
     "metadata": {},
     "output_type": "execute_result"
    }
   ],
   "source": [
    "im.shape"
   ]
  },
  {
   "cell_type": "code",
   "execution_count": 320,
   "id": "50687a31",
   "metadata": {
    "scrolled": true
   },
   "outputs": [
    {
     "data": {
      "text/plain": [
       "tensor([[[[0., 0., 0., 0., 0., 0., 0., 0., 0., 0.],\n",
       "          [0., 0., 0., 0., 0., 0., 0., 0., 0., 0.],\n",
       "          [0., 0., 0., 0., 0., 0., 0., 0., 0., 0.],\n",
       "          [0., 0., 0., 0., 0., 0., 0., 0., 0., 0.],\n",
       "          [0., 0., 0., 0., 0., 0., 0., 0., 0., 0.],\n",
       "          [0., 0., 0., 0., 0., 0., 0., 0., 0., 0.],\n",
       "          [0., 0., 0., 0., 0., 0., 0., 0., 0., 0.],\n",
       "          [0., 0., 0., 0., 0., 0., 0., 0., 0., 0.],\n",
       "          [0., 0., 0., 0., 0., 0., 0., 0., 0., 0.],\n",
       "          [0., 0., 0., 0., 0., 0., 0., 0., 0., 0.]]]])"
      ]
     },
     "execution_count": 320,
     "metadata": {},
     "output_type": "execute_result"
    }
   ],
   "source": [
    "im"
   ]
  },
  {
   "cell_type": "code",
   "execution_count": 267,
   "id": "370ad975",
   "metadata": {},
   "outputs": [
    {
     "data": {
      "text/plain": [
       "45.254833995939045"
      ]
     },
     "execution_count": 267,
     "metadata": {},
     "output_type": "execute_result"
    }
   ],
   "source": [
    "32*np.sqrt(2)"
   ]
  },
  {
   "cell_type": "code",
   "execution_count": null,
   "id": "5477fa8f",
   "metadata": {},
   "outputs": [],
   "source": []
  },
  {
   "cell_type": "code",
   "execution_count": 294,
   "id": "19f3f469",
   "metadata": {},
   "outputs": [
    {
     "data": {
      "text/plain": [
       "tensor([[[[0., 0., 0., 0., 0., 0., 0., 0., 0., 0.],\n",
       "          [0., 0., 0., 0., 0., 0., 0., 0., 0., 0.],\n",
       "          [0., 0., 0., 0., 0., 0., 0., 0., 0., 0.],\n",
       "          [0., 0., 0., 0., 0., 0., 0., 0., 0., 0.],\n",
       "          [0., 0., 0., 0., 0., 0., 0., 0., 0., 0.],\n",
       "          [0., 0., 0., 0., 0., 0., 0., 0., 0., 0.],\n",
       "          [0., 0., 0., 0., 0., 0., 0., 0., 0., 0.],\n",
       "          [0., 0., 0., 0., 0., 0., 0., 0., 0., 0.],\n",
       "          [0., 0., 0., 0., 0., 0., 0., 0., 0., 0.],\n",
       "          [0., 0., 0., 0., 0., 0., 0., 0., 0., 0.]]]])"
      ]
     },
     "execution_count": 294,
     "metadata": {},
     "output_type": "execute_result"
    }
   ],
   "source": [
    "im"
   ]
  },
  {
   "cell_type": "code",
   "execution_count": null,
   "id": "ca93feb5",
   "metadata": {},
   "outputs": [],
   "source": []
  }
 ],
 "metadata": {
  "kernelspec": {
   "display_name": "swin",
   "language": "python",
   "name": "swin"
  },
  "language_info": {
   "codemirror_mode": {
    "name": "ipython",
    "version": 3
   },
   "file_extension": ".py",
   "mimetype": "text/x-python",
   "name": "python",
   "nbconvert_exporter": "python",
   "pygments_lexer": "ipython3",
   "version": "3.7.13"
  }
 },
 "nbformat": 4,
 "nbformat_minor": 5
}
