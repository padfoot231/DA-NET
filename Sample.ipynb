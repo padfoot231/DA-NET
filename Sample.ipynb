{
 "cells": [
  {
   "cell_type": "code",
   "execution_count": null,
   "id": "274e6a40",
   "metadata": {},
   "outputs": [],
   "source": [
    "cd Radial-Transformers/"
   ]
  },
  {
   "cell_type": "code",
   "execution_count": 1,
   "id": "b51e093a",
   "metadata": {},
   "outputs": [
    {
     "name": "stderr",
     "output_type": "stream",
     "text": [
      "/gel/usr/akath/.conda/envs/swin/lib/python3.7/site-packages/tqdm/auto.py:22: TqdmWarning: IProgress not found. Please update jupyter and ipywidgets. See https://ipywidgets.readthedocs.io/en/stable/user_install.html\n",
      "  from .autonotebook import tqdm as notebook_tqdm\n"
     ]
    }
   ],
   "source": [
    "from PIL import Image\n",
    "import torch\n",
    "import torch.nn as nn"
   ]
  },
  {
   "cell_type": "code",
   "execution_count": 2,
   "id": "14126d03",
   "metadata": {},
   "outputs": [],
   "source": [
    "from torchvision.transforms import transforms\n",
    "t2pil = transforms.ToTensor()\n",
    "pil = transforms.ToPILImage()"
   ]
  },
  {
   "cell_type": "code",
   "execution_count": 3,
   "id": "b09d61f3",
   "metadata": {},
   "outputs": [],
   "source": [
    "import numpy as np"
   ]
  },
  {
   "cell_type": "code",
   "execution_count": 4,
   "id": "1785e59e",
   "metadata": {},
   "outputs": [],
   "source": [
    "from utils import get_sample_params_from_subdiv, get_sample_locations"
   ]
  },
  {
   "cell_type": "code",
   "execution_count": null,
   "id": "1b0a1940",
   "metadata": {},
   "outputs": [],
   "source": [
    "a = torch.tensor([0.0, 1.5, 3.047911227757854, 0.5, 17.517568479641348, 3.047911227757854, 1.0, 33.535136959282696, 3.047911227757854]).reshape(3, 3).transpose(0,1)"
   ]
  },
  {
   "cell_type": "code",
   "execution_count": null,
   "id": "553ddac4",
   "metadata": {},
   "outputs": [],
   "source": [
    "a"
   ]
  },
  {
   "cell_type": "code",
   "execution_count": 22,
   "id": "9eb8f62e",
   "metadata": {},
   "outputs": [],
   "source": [
    "sampling_loc = []\n",
    "D = torch.tensor(np.array([100, 10, 10, 1]).reshape(1,4).transpose(1,0)).cuda()\n",
    "a = torch.tensor([0.0, 1.5, 3.047911227757854, 0.5, 17.517568479641348, 3.047911227757854, 1.0, 33.535136959282696, 3.047911227757854]).reshape(3, 3).transpose(0,1).cuda()\n",
    "# a = torch.tensor([1.0, 33.535136959282696, 3.047911227757854]).reshape(1, 3).transpose(0,1).cuda()\n",
    "azimuth_subdiv = 64\n",
    "radius_subdiv = 1\n",
    "subdiv = (radius_subdiv, azimuth_subdiv)\n",
    "# subdiv = 3\n",
    "n_radius = 10\n",
    "n_azimuth = 20\n",
    "img_size = (64,64)\n",
    "radius_buffer, azimuth_buffer = 0, 0\n",
    "params, D_s = get_sample_params_from_subdiv(\n",
    "    subdiv=subdiv,\n",
    "    img_size=img_size,\n",
    "    D = D, \n",
    "    n_radius=n_radius,\n",
    "    n_azimuth=n_azimuth,\n",
    "    radius_buffer=radius_buffer,\n",
    "    azimuth_buffer=azimuth_buffer, \n",
    "    distoriton_model = 'polynomial')\n",
    "\n",
    "sample_locations = get_sample_locations(**params)  ## B, azimuth_cuts*radius_cuts, n_radius*n_azimut"
   ]
  },
  {
   "cell_type": "code",
   "execution_count": 23,
   "id": "7d0d9b1c",
   "metadata": {},
   "outputs": [
    {
     "data": {
      "text/plain": [
       "torch.Size([1, 64, 200])"
      ]
     },
     "execution_count": 23,
     "metadata": {},
     "output_type": "execute_result"
    }
   ],
   "source": [
    "sample_locations[0].shape"
   ]
  },
  {
   "cell_type": "code",
   "execution_count": null,
   "id": "69a6a246",
   "metadata": {},
   "outputs": [],
   "source": [
    "import matplotlib.pyplot as plt\n",
    "# for i in range(10):\n",
    "im = Image.open('dog_d.png')\n",
    "im = im.resize((64, 64), Image.ANTIALIAS)\n",
    "\n",
    "im = np.array(im)\n",
    "\n",
    "# im = im.resize(20,20,3)\n",
    "# fig = plt.figure()\n",
    "# ax1 = fig.add_subplot(111)\n",
    "_, ax = plt.subplots(figsize=(10, 10))\n",
    "ax.set_title(\"Sampling locations\")\n",
    "colors = ['#e41a1c', '#377eb8', '#4daf4a', '#984ea3', '#ff7f00', '#ffff33', '#a65628']\n",
    "# sampling_loc[0][0].shape[1]\n",
    "for i in range(sample_locations[0].shape[1]):\n",
    "    x = sampling_loc[0][0][0][i].detach().cpu().numpy()\n",
    "    y = sampling_loc[0][1][0][i].detach().cpu().numpy()\n",
    "    ax.scatter(x + 32, y + 32 , color='green', s=6)\n",
    "# for i in range(1):\n",
    "#     x = sampling_loc[1][0][0][i].detach().cpu().numpy()\n",
    "#     y = sampling_loc[1][1][0][i].detach().cpu().numpy()\n",
    "#     ax.scatter(x + 32, y + 32 , color='black', s=6)\n",
    "# for i in range(1):\n",
    "#     x = sampling_loc[2][0][0][i].detach().cpu().numpy()\n",
    "#     y = sampling_loc[2][1][0][i].detach().cpu().numpy()\n",
    "#     ax.scatter(x + 32, y + 32 , color='#FF1493', s=6)"
   ]
  },
  {
   "cell_type": "code",
   "execution_count": null,
   "id": "69f09a58",
   "metadata": {},
   "outputs": [],
   "source": [
    "(x[0][0] - x[0][1])*(x[0][0] - x[0][1]) + (y[0][0] - y[0][1])*(y[0][0] - y[0][1])"
   ]
  },
  {
   "cell_type": "code",
   "execution_count": null,
   "id": "e5978e32",
   "metadata": {},
   "outputs": [],
   "source": [
    "d = 0.5"
   ]
  },
  {
   "cell_type": "code",
   "execution_count": null,
   "id": "918c2c00",
   "metadata": {},
   "outputs": [],
   "source": [
    "import random\n",
    "eps = np.random.normal(0, d/3)"
   ]
  },
  {
   "cell_type": "code",
   "execution_count": null,
   "id": "2baa7cca",
   "metadata": {},
   "outputs": [],
   "source": [
    "eps"
   ]
  },
  {
   "cell_type": "code",
   "execution_count": null,
   "id": "6a8bdf22",
   "metadata": {},
   "outputs": [],
   "source": [
    "a = torch.tensor([0.0, 7, 0.5, 63.10926839658489, 1.0, 119.21853679316978]).reshape(3, 2).transpose(0,1).cuda()\n",
    "a[1][0]"
   ]
  },
  {
   "cell_type": "code",
   "execution_count": null,
   "id": "9f7ac3af",
   "metadata": {},
   "outputs": [],
   "source": [
    "sampling_loc[0].shape"
   ]
  },
  {
   "cell_type": "code",
   "execution_count": null,
   "id": "0fc8c29a",
   "metadata": {},
   "outputs": [],
   "source": [
    "d = torch.linspace(-1, 1, 8)"
   ]
  },
  {
   "cell_type": "code",
   "execution_count": null,
   "id": "f608e787",
   "metadata": {},
   "outputs": [],
   "source": [
    "meshx, meshy = torch.meshgrid((d, d))\n",
    "grid = torch.stack((meshy, meshx), 2)\n",
    "grid = grid.unsqueeze(0)"
   ]
  },
  {
   "cell_type": "code",
   "execution_count": null,
   "id": "f7417f5c",
   "metadata": {},
   "outputs": [],
   "source": [
    "grid.shape"
   ]
  },
  {
   "cell_type": "code",
   "execution_count": null,
   "id": "c0ac7fbe",
   "metadata": {},
   "outputs": [],
   "source": [
    "input"
   ]
  },
  {
   "cell_type": "markdown",
   "id": "914832f8",
   "metadata": {},
   "source": [
    "# Image\n"
   ]
  },
  {
   "cell_type": "code",
   "execution_count": null,
   "id": "c8f4704c",
   "metadata": {},
   "outputs": [],
   "source": [
    "im = t2pil(Image.open(\"../tiny-imagenet-200/train/n01443537/images/n01443537_0.JPEG\")).reshape(1, 3, 64, 64)\n",
    "im_ = t2pil(Image.open(\"../tiny-imagenet-200/train/n01443537/images/n01443537_1.JPEG\")).reshape(1, 3, 64, 64)\n",
    "inp = torch.cat((im, im_))\n",
    "inp.shape"
   ]
  },
  {
   "cell_type": "markdown",
   "id": "c62ad440",
   "metadata": {},
   "source": [
    "# Test"
   ]
  },
  {
   "cell_type": "code",
   "execution_count": null,
   "id": "81a8c642",
   "metadata": {},
   "outputs": [],
   "source": [
    "im = torch.arange(100).reshape(1, 1, 10, 10).float()\n",
    "im_ = torch.arange(100, 200).reshape(1, 1, 10, 10).float()\n",
    "inp = torch.cat((im, im_))\n",
    "inp.shape"
   ]
  },
  {
   "cell_type": "code",
   "execution_count": null,
   "id": "20b0e4d7",
   "metadata": {},
   "outputs": [],
   "source": [
    "grid"
   ]
  },
  {
   "cell_type": "code",
   "execution_count": null,
   "id": "0245d605",
   "metadata": {},
   "outputs": [],
   "source": [
    "im"
   ]
  },
  {
   "cell_type": "code",
   "execution_count": null,
   "id": "08e252de",
   "metadata": {},
   "outputs": [],
   "source": [
    "t_ = nn.functional.grid_sample(im, grid, align_corners = True)"
   ]
  },
  {
   "cell_type": "code",
   "execution_count": null,
   "id": "c2857118",
   "metadata": {},
   "outputs": [],
   "source": [
    "t_"
   ]
  },
  {
   "cell_type": "code",
   "execution_count": null,
   "id": "a29f164b",
   "metadata": {},
   "outputs": [],
   "source": [
    "D=torch.tensor(np.array([0.5, 0.5, 0.5, 0.5, 1, 1, 1, 1, 2, 2, 2, 2]).reshape(3, 4)).transpose(0, 1)"
   ]
  },
  {
   "cell_type": "code",
   "execution_count": null,
   "id": "1e75b5a6",
   "metadata": {},
   "outputs": [],
   "source": [
    "a = torch.tensor([0.0, 7, 1.50, 0.5, 63.10926839658489, 1.50, 1.0, 119.21853679316978, 1.50]).reshape(3, 3).transpose(0,1)"
   ]
  },
  {
   "cell_type": "code",
   "execution_count": null,
   "id": "2e01d028",
   "metadata": {},
   "outputs": [],
   "source": [
    "a"
   ]
  },
  {
   "cell_type": "code",
   "execution_count": null,
   "id": "c45488fb",
   "metadata": {},
   "outputs": [],
   "source": [
    "a[:, 1:][0]"
   ]
  },
  {
   "cell_type": "code",
   "execution_count": null,
   "id": "41ed16f0",
   "metadata": {
    "scrolled": true
   },
   "outputs": [],
   "source": [
    "\n",
    "import numpy as np\n",
    "\n",
    "sz = 5\n",
    "input_arr = torch.from_numpy(np.arange(sz*sz).reshape(1,1,sz,sz)).float()\n",
    "input_arr = input_arr//20\n",
    "indices = torch.from_numpy(np.array([-1,-1, -0.5,-0.5, 0,0, 0.5,0.5, 1,1]).reshape(1, 1, 5, 2)).float()\n",
    "\n",
    "out = nn.functional.grid_sample(input_arr, indices)\n",
    "print(input_arr)\n",
    "print(out)\n"
   ]
  },
  {
   "cell_type": "code",
   "execution_count": null,
   "id": "b112e4c4",
   "metadata": {},
   "outputs": [],
   "source": [
    "t = torch.arange(16).reshape(1, 3, 4, 4).float()\n",
    "t_ = torch.arange(48, 96).reshape(1, 3, 4, 4).float()\n",
    "inp = torch.cat((t, t_))\n"
   ]
  },
  {
   "cell_type": "code",
   "execution_count": null,
   "id": "8ac01130",
   "metadata": {},
   "outputs": [],
   "source": [
    "tensor = inp[:, :, x[i*radius_subdiv:radius_subdiv + i*radius_subdiv], y[i*radius_subdiv:radius_subdiv + i*radius_subdiv]].permute(0,2,1,3).contiguous().view(-1, 64*3)"
   ]
  },
  {
   "cell_type": "code",
   "execution_count": null,
   "id": "b86f3638",
   "metadata": {},
   "outputs": [],
   "source": [
    "t = torch.arange(8).reshape(1, 2,2,2)"
   ]
  },
  {
   "cell_type": "code",
   "execution_count": null,
   "id": "5c52d950",
   "metadata": {},
   "outputs": [],
   "source": [
    "t = t.repeat(3, 1, 1, 1)"
   ]
  },
  {
   "cell_type": "code",
   "execution_count": null,
   "id": "027ca4f5",
   "metadata": {},
   "outputs": [],
   "source": [
    "t"
   ]
  },
  {
   "cell_type": "code",
   "execution_count": null,
   "id": "e47abd55",
   "metadata": {},
   "outputs": [],
   "source": [
    "out = tensor.contiguous().view(2, 2, -1)\n",
    "out.shape"
   ]
  },
  {
   "cell_type": "code",
   "execution_count": null,
   "id": "de0b4234",
   "metadata": {},
   "outputs": [],
   "source": []
  },
  {
   "cell_type": "code",
   "execution_count": null,
   "id": "989cb618",
   "metadata": {},
   "outputs": [],
   "source": [
    "out"
   ]
  },
  {
   "cell_type": "code",
   "execution_count": null,
   "id": "20b3e1dc",
   "metadata": {},
   "outputs": [],
   "source": [
    "x_[0,0:2,3]  = out"
   ]
  },
  {
   "cell_type": "code",
   "execution_count": null,
   "id": "52bc94aa",
   "metadata": {},
   "outputs": [],
   "source": [
    "out.shape"
   ]
  },
  {
   "cell_type": "code",
   "execution_count": null,
   "id": "5fce651e",
   "metadata": {},
   "outputs": [],
   "source": [
    "x_ = torch.rand(2, 2*radius_subdiv, azimuth_subdiv//2, 60)"
   ]
  },
  {
   "cell_type": "code",
   "execution_count": null,
   "id": "f77b459a",
   "metadata": {},
   "outputs": [],
   "source": [
    "for i in range(azimuth_subdiv):\n",
    "    print(i, i*radius_subdiv)\n",
    "    tensor = nn.functional.grid_sample(inp, out[i*radius_subdiv:radius_subdiv + i*radius_subdiv].reshape(1, radius_subdiv, 20,2).repeat(2, 1, 1,1), align_corners = False)\n",
    "#     tensor = inp[:, :, x[i*radius_subdiv:radius_subdiv + i*radius_subdiv], y[i*radius_subdiv:radius_subdiv + i*radius_subdiv]] .permute(0,2,1,3).contiguous().view(-1, 64*3)\n",
    "    tensor = tensor.permute(0,2,1,3).contiguous().view(-1, 20*3)\n",
    "    o = tensor.contiguous().view(2, radius_subdiv, -1)\n",
    "    if i < azimuth_subdiv//2:\n",
    "        x_[:, 0:2, azimuth_subdiv//2-1-i, :] = o\n",
    "    else:\n",
    "        x_[:, 2:4, 0+i-azimuth_subdiv//2, :] = o\n",
    "        \n",
    "    \n",
    "    \n"
   ]
  },
  {
   "cell_type": "code",
   "execution_count": null,
   "id": "6abe0684",
   "metadata": {},
   "outputs": [],
   "source": [
    "x_.shape"
   ]
  },
  {
   "cell_type": "code",
   "execution_count": null,
   "id": "4ccaba45",
   "metadata": {},
   "outputs": [],
   "source": [
    "o = torch.arange(16)\n",
    "x = torch.rand(2*radius_subdiv, azimuth_subdiv//2)\n",
    "x.shape, o"
   ]
  },
  {
   "cell_type": "code",
   "execution_count": null,
   "id": "c3884bda",
   "metadata": {},
   "outputs": [],
   "source": [
    "for i in range(azimuth_subdiv):\n",
    "    if i < azimuth_subdiv//2:\n",
    "        x[0:2, azimuth_subdiv//2-1-i] = o[i*2:2 + i*2]\n",
    "    else:\n",
    "        x[2:4, 0+i-azimuth_subdiv//2] = o[i*2:2 + i*2]\n",
    "    \n",
    "    \n"
   ]
  },
  {
   "cell_type": "code",
   "execution_count": null,
   "id": "0f02f64f",
   "metadata": {},
   "outputs": [],
   "source": [
    "x"
   ]
  },
  {
   "cell_type": "code",
   "execution_count": null,
   "id": "f71c7405",
   "metadata": {},
   "outputs": [],
   "source": []
  },
  {
   "cell_type": "code",
   "execution_count": null,
   "id": "d82094a1",
   "metadata": {},
   "outputs": [],
   "source": [
    "ind = torch.tensor(((0, 0, 1, 2), (1,1,2, 3)))\n",
    "ind1 = torch.tensor(((1, 2, 3, 2), (1,1,2, 2)))"
   ]
  },
  {
   "cell_type": "code",
   "execution_count": null,
   "id": "428366a9",
   "metadata": {},
   "outputs": [],
   "source": [
    "inp[:, :, ind, ind1].shape"
   ]
  },
  {
   "cell_type": "code",
   "execution_count": null,
   "id": "dd6b339e",
   "metadata": {},
   "outputs": [],
   "source": [
    "q = inp[:, :, ind, ind1].permute(0,2, 1, 3 ).contiguous().view(-1, 12)"
   ]
  },
  {
   "cell_type": "code",
   "execution_count": null,
   "id": "287bdfe7",
   "metadata": {},
   "outputs": [],
   "source": [
    "q.shape"
   ]
  },
  {
   "cell_type": "code",
   "execution_count": null,
   "id": "d7bf1f95",
   "metadata": {},
   "outputs": [],
   "source": [
    "q"
   ]
  },
  {
   "cell_type": "code",
   "execution_count": null,
   "id": "e9f0d6cf",
   "metadata": {},
   "outputs": [],
   "source": [
    "inp[:, :, ind, ind1].permute(0,2, 1, 3).flatten(2)"
   ]
  },
  {
   "cell_type": "code",
   "execution_count": null,
   "id": "26679288",
   "metadata": {},
   "outputs": [],
   "source": [
    "q.contiguous().view(2, 2, -1)"
   ]
  },
  {
   "cell_type": "code",
   "execution_count": null,
   "id": "5f1e0606",
   "metadata": {},
   "outputs": [],
   "source": [
    "t = torch.ones(( 2, 4, 4, 12))"
   ]
  },
  {
   "cell_type": "code",
   "execution_count": null,
   "id": "ee956055",
   "metadata": {},
   "outputs": [],
   "source": [
    "t[:, :2, 0, :].shape"
   ]
  },
  {
   "cell_type": "code",
   "execution_count": null,
   "id": "adaa2752",
   "metadata": {},
   "outputs": [],
   "source": [
    "t[:, 0, :2, :] =  q.contiguous().view(2, 2, -1)"
   ]
  },
  {
   "cell_type": "code",
   "execution_count": null,
   "id": "9b920791",
   "metadata": {},
   "outputs": [],
   "source": [
    "t[0][:, :, 0]"
   ]
  },
  {
   "cell_type": "code",
   "execution_count": null,
   "id": "6b90c41e",
   "metadata": {},
   "outputs": [],
   "source": []
  }
 ],
 "metadata": {
  "kernelspec": {
   "display_name": "swin",
   "language": "python",
   "name": "swin"
  },
  "language_info": {
   "codemirror_mode": {
    "name": "ipython",
    "version": 3
   },
   "file_extension": ".py",
   "mimetype": "text/x-python",
   "name": "python",
   "nbconvert_exporter": "python",
   "pygments_lexer": "ipython3",
   "version": "3.7.13"
  }
 },
 "nbformat": 4,
 "nbformat_minor": 5
}
